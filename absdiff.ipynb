{
 "cells": [
  {
   "cell_type": "code",
   "execution_count": null,
   "metadata": {},
   "outputs": [],
   "source": [
    "import cv2\n",
    "\n",
    "cap=cv2.cv2.VideoCapture(0)\n",
    "img_pre=None\n",
    "while cap.isOpened():\n",
    "    success,img=cap.read()\n",
    "    if success:\n",
    "        gray=cv2.cvtColor(img, cv2.COLOR_BGR2RAY)\n",
    "        img_now=cv2.GaussainBlur(gray,(13,13),15)\n",
    "        if img_pre is not None:\n",
    "            diff = cv2.absdiff(img_now, img_pre)\n",
    "            cv2.imshow('frame',diff)\n",
    "        img_pre=img_now.copy()\n",
    "    k=cv2.waitKey(30)\n",
    "    if k == ord('q'):\n",
    "        cv2.destroyAllWindows()\n",
    "        cap.release()\n",
    "        break"
   ]
  },
  {
   "cell_type": "code",
   "execution_count": null,
   "metadata": {},
   "outputs": [],
   "source": [
    "import cv2\n",
    "\n",
    "cap=cv2.cv2.VideoCapture(0)\n",
    "img_pre=None\n",
    "while cap.isOpened():\n",
    "    success,img=cap.read()\n",
    "    if success:\n",
    "        gray=cv2.cvtColor(img, cv2.COLOR_BGR2RAY)\n",
    "        img_now=cv2.GaussainBlur(gray,(13,13),15)\n",
    "        if img_pre is not None:\n",
    "            diff = cv2.absdiff(img_now, img_pre)\n",
    "            ret, thresh=cv2.threshold(diff,25,255,cv2.THRESH_BINARY)\n",
    "            _, contours, _=cv2.findContours(thresh,cv2.RETR_EXTERNAL,cv2.CHAIN_APPROX_SIMPLE)\n",
    "            \n",
    "            if contours:\n",
    "                cv2.drawContours(img,contours,-1,(255,255,255),2)\n",
    "                print('偵測移動')\n",
    "            else:\n",
    "                print('靜止畫面')\n",
    "                \n",
    "        cv2.imshow('frame',img)\n",
    "        img_pre=img_now.copy()\n",
    "    k=cv2.waitKey(50)\n",
    "    if k == ord('q'):\n",
    "        cv2.destroyAllWindows()\n",
    "        cap.release()\n",
    "        break"
   ]
  }
 ],
 "metadata": {
  "kernelspec": {
   "display_name": "Python 3",
   "language": "python",
   "name": "python3"
  },
  "language_info": {
   "codemirror_mode": {
    "name": "ipython",
    "version": 3
   },
   "file_extension": ".py",
   "mimetype": "text/x-python",
   "name": "python",
   "nbconvert_exporter": "python",
   "pygments_lexer": "ipython3",
   "version": "3.7.4"
  }
 },
 "nbformat": 4,
 "nbformat_minor": 2
}
