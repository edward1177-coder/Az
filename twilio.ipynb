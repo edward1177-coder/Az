{
 "cells": [
  {
   "cell_type": "code",
   "execution_count": 5,
   "metadata": {},
   "outputs": [
    {
     "name": "stdout",
     "output_type": "stream",
     "text": [
      "簡訊發送時間: 2019-12-25 02:34:48+00:00\n"
     ]
    }
   ],
   "source": [
    "from twilio.rest import Client\n",
    "\n",
    "sid=\"ACb8f4d6485b6623b83b896cae68706103\"\n",
    "token=\"0a98caf7c673dc4d75467964881af316\"\n",
    "us_phone=\"+19712057625\"\n",
    "tw_phone=\"+886960340938\"\n",
    "\n",
    "def send_sms(text, sid, token, us_phone, tw_phone):\n",
    "    client=Client(sid, token)\n",
    "    sms=client.messages.create(from_=us_phone,\n",
    "                              to=tw_phone,\n",
    "                              body=text)\n",
    "    print('簡訊發送時間:', sms.date_created)\n",
    "    \n",
    "send_sms('注意!!家中有人闖入!!',sid,token,us_phone,tw_phone)"
   ]
  },
  {
   "cell_type": "code",
   "execution_count": null,
   "metadata": {},
   "outputs": [],
   "source": []
  }
 ],
 "metadata": {
  "kernelspec": {
   "display_name": "Python 3",
   "language": "python",
   "name": "python3"
  },
  "language_info": {
   "codemirror_mode": {
    "name": "ipython",
    "version": 3
   },
   "file_extension": ".py",
   "mimetype": "text/x-python",
   "name": "python",
   "nbconvert_exporter": "python",
   "pygments_lexer": "ipython3",
   "version": "3.7.4"
  }
 },
 "nbformat": 4,
 "nbformat_minor": 2
}
