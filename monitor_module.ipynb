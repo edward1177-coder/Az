{
 "cells": [
  {
   "cell_type": "code",
   "execution_count": null,
   "metadata": {},
   "outputs": [],
   "source": [
    "import smtplib\n",
    "try:\n",
    "    smtp_gmail=smtplib.SMTP('smtp.gmail.com',587)\n",
    "except:\n",
    "    print('連線失敗')"
   ]
  },
  {
   "cell_type": "code",
   "execution_count": null,
   "metadata": {},
   "outputs": [],
   "source": [
    "smtp_gmail.ehlo()"
   ]
  },
  {
   "cell_type": "code",
   "execution_count": null,
   "metadata": {},
   "outputs": [],
   "source": [
    "smtp_gmail.starttls()"
   ]
  },
  {
   "cell_type": "code",
   "execution_count": null,
   "metadata": {},
   "outputs": [],
   "source": [
    "smtp_gmail.login(\"zionwilliamson777@gmail.com\",\"calis3407\")"
   ]
  },
  {
   "cell_type": "code",
   "execution_count": null,
   "metadata": {},
   "outputs": [],
   "source": [
    "from email.mime.text import MIMEText\n",
    "from email.header import Header\n",
    "\n",
    "sender = 'zionwilliamson777@gmail.com'\n",
    "receivers = ['marcussmart321@gmail.com','mandymogi@gmail.com']\n",
    "\n",
    "message = MIMEText('I will take u to outerspace', 'plain', 'utf-8')\n",
    "message['From'] = Header(\"God\", 'utf-8') # 傳送者\n",
    "message['To'] = Header(\"Mandy\", 'utf-8') # 接收者\n",
    "subject = 'Hello Mandy'\n",
    "message['Subject'] = Header(subject, 'utf-8')\n",
    "try:\n",
    "    status=smtp_gmail.sendmail(sender, receivers, message.as_string())\n",
    "    print(\"郵件傳送成功\")\n",
    "except smtplib.SMTPException:\n",
    "    print(\"Error: 無法傳送郵件\")"
   ]
  },
  {
   "cell_type": "code",
   "execution_count": null,
   "metadata": {},
   "outputs": [],
   "source": [
    "status=smtp_gmail.sendmail('zionwilliamson777@gmail.com', 'marcussmart321@gmail.com'\n",
    "                           ,'Subject:Hellogo\\nTesting')"
   ]
  },
  {
   "cell_type": "code",
   "execution_count": null,
   "metadata": {},
   "outputs": [],
   "source": [
    "import smtplib\n",
    "\n",
    "def send_gmail(gamil_addr, gmail_pwd, to_addrs, msg):\n",
    "    smtp_gmail=smtplib.SMTP('smtp.gmail.com',587)\n",
    "    print(smtp_gmail.ehlo())\n",
    "    print(smtp_gmail.starttls())\n",
    "    print(smtp_gmail.login(gmail_addr, gmail_pwd))\n",
    "    status=smtp_gmail.sendmail(gmail_addr,to_addrs,msg)\n",
    "    if not status:\n",
    "        print(\"寄信成功\")\n",
    "    else:\n",
    "        print(\"寄信失敗\",status)\n",
    "    smtp_gmail.quit()\n",
    "    \n",
    "gmail_addr='zionwilliamson777@gmail.com'\n",
    "gmail_pwd='calis3407'\n",
    "to_addrs=['marcussmart321@gmail.com']\n",
    "send_gmail(gmail_addr,gmail_pwd,to_addrs,'Subject:Hello\\n')"
   ]
  },
  {
   "cell_type": "code",
   "execution_count": null,
   "metadata": {},
   "outputs": [],
   "source": [
    "def get_mime_img(subject, fr, to, img):\n",
    "    img_endcode=cv2.imencode('.jpg',img)\n",
    "    img_bytes=img_encode.tobytes()\n",
    "    mime_img=MIMEImage(img_bytes)\n",
    "    mime_img['Content-Disposition']='attachment;filename=\"pic.jpg\"'\n",
    "    mime_img['Subject']=subject\n",
    "    mime_ime['From']=fr\n",
    "    mime_img['To']=to\n",
    "    return mime_img.as_string()"
   ]
  }
 ],
 "metadata": {
  "kernelspec": {
   "display_name": "Python 3",
   "language": "python",
   "name": "python3"
  },
  "language_info": {
   "codemirror_mode": {
    "name": "ipython",
    "version": 3
   },
   "file_extension": ".py",
   "mimetype": "text/x-python",
   "name": "python",
   "nbconvert_exporter": "python",
   "pygments_lexer": "ipython3",
   "version": "3.7.4"
  }
 },
 "nbformat": 4,
 "nbformat_minor": 2
}
