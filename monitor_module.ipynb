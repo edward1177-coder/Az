{
 "cells": [
  {
   "cell_type": "code",
   "execution_count": null,
   "metadata": {},
   "outputs": [],
   "source": [
    "import smtplib\n",
    "\n",
    "def send_gmail(gamil_addr, gmail_pwd, to_addrs, msg):\n",
    "    smtp_gmail=smtplib.SMTP('smtp.gmail.com',587)\n",
    "    print(smtp_gmail.ehlo())\n",
    "    print(smtp_gmail.starttls())\n",
    "    print(smtp_gmail.login(gmail_addr, gmail_pwd))\n",
    "    status=smtp_gmail.sendmail(gmail_addr,to_addrs,msg)\n",
    "    if not status:\n",
    "        print(\"寄信成功\")\n",
    "    else:\n",
    "        print(\"寄信失敗\",status)\n",
    "    smtp_gmail.quit()\n",
    "    \n",
    "gmail_addr='zionwilliamson777@gmail.com'\n",
    "gmail_pwd='calis3407'\n",
    "to_addrs=['marcussmart321@gmail.com']\n"
   ]
  },
  {
   "cell_type": "code",
   "execution_count": 1,
   "metadata": {},
   "outputs": [],
   "source": [
    "import cv2\n",
    "def get_mime_img(subject, fr, to, img):\n",
    "    img_encode=cv2.imencode('.jpg',img)[1]\n",
    "    img_bytes=img_encode.tobytes()\n",
    "    mime_img=MIMEImage(img_bytes)\n",
    "    mime_img['Content-type']='application/octet-stream'\n",
    "    mime_img['Content-Disposition']='attachment;filename=\"pic.jpg\"'\n",
    "    mime_img['Subject']=subject\n",
    "    mime_img['From']=fr\n",
    "    mime_img['To']=to\n",
    "    return mime_img.as_string()\n"
   ]
  },
  {
   "cell_type": "code",
   "execution_count": null,
   "metadata": {},
   "outputs": [],
   "source": []
  }
 ],
 "metadata": {
  "kernelspec": {
   "display_name": "Python 3",
   "language": "python",
   "name": "python3"
  },
  "language_info": {
   "codemirror_mode": {
    "name": "ipython",
    "version": 3
   },
   "file_extension": ".py",
   "mimetype": "text/x-python",
   "name": "python",
   "nbconvert_exporter": "python",
   "pygments_lexer": "ipython3",
   "version": "3.7.4"
  }
 },
 "nbformat": 4,
 "nbformat_minor": 2
}
