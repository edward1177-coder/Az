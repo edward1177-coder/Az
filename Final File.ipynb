{
 "cells": [
  {
   "cell_type": "code",
   "execution_count": null,
   "metadata": {},
   "outputs": [],
   "source": [
    "import cv2\n",
    "import monitor_module as m\n",
    "\n",
    "#E-Mail資料設定\n",
    "gmail_addr='zionwilliamson777@gmail.com'\n",
    "gmail_pwd='calis3407'\n",
    "to_addrs=['marcussmart321@gmail.com']\n",
    "#簡訊設定\n",
    "sid=\"ACb8f4d6485b6623b83b896cae68706103\"\n",
    "token=\"0a98caf7c673dc4d75467964881af316\"\n",
    "us_phone=\"+19712057625\"\n",
    "tw_phone=\"+886960340938\"\n",
    "#開啟攝影機運作\n",
    "cap=cv2.cv2.VideoCapture(0)\n",
    "skip=1\n",
    "while cap.isOpened():\n",
    "    success,img=cap.read()\n",
    "    if success:\n",
    "        gray=cv2.cvtColor(img, cv2.COLOR_BGR2RAY)\n",
    "        img_now=cv2.GaussainBlur(gray,(13,13),15)\n",
    "        if skip>0:\n",
    "            skip-=1\n",
    "        else:\n",
    "            diff = cv2.absdiff(img_now, img_pre)\n",
    "            ret, thresh=cv2.threshold(diff,25,255,cv2.THRESH_BINARY)\n",
    "            _, contours, _=cv2.findContours(thresh,cv2.RETR_EXTERNAL,cv2.CHAIN_APPROX_SIMPLE)\n",
    "            \n",
    "            if contours:\n",
    "                cv2.drawContours(img,contours,-1,(255,255,255),2)\n",
    "                msg=m.get_mime_img('小偷入侵','鷹眼防盜監視器','警察局',img)\n",
    "                m.send_gmail(gmail_addr,gmail_pwd,to_addrs,msg)\n",
    "                m.send_sms('小偷來了',sid,token,us_phone,tw_phone)\n",
    "                print('偵測到移動')\n",
    "                skip=200\n",
    "            else:\n",
    "                print('靜止畫面')\n",
    "                \n",
    "        cv2.imshow('frame',img)\n",
    "        img_pre=img_now.copy()\n",
    "    k=cv2.waitKey(50)\n",
    "    if k == ord('q'):\n",
    "        cv2.destroyAllWindows()\n",
    "        cap.release()\n",
    "        break"
   ]
  }
 ],
 "metadata": {
  "kernelspec": {
   "display_name": "Python 3",
   "language": "python",
   "name": "python3"
  },
  "language_info": {
   "codemirror_mode": {
    "name": "ipython",
    "version": 3
   },
   "file_extension": ".py",
   "mimetype": "text/x-python",
   "name": "python",
   "nbconvert_exporter": "python",
   "pygments_lexer": "ipython3",
   "version": "3.7.4"
  }
 },
 "nbformat": 4,
 "nbformat_minor": 2
}
