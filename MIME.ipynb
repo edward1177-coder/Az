{
 "cells": [
  {
   "cell_type": "code",
   "execution_count": 7,
   "metadata": {},
   "outputs": [
    {
     "name": "stdout",
     "output_type": "stream",
     "text": [
      "(250, b'smtp.gmail.com at your service, [111.243.191.71]\\nSIZE 35882577\\n8BITMIME\\nSTARTTLS\\nENHANCEDSTATUSCODES\\nPIPELINING\\nCHUNKING\\nSMTPUTF8')\n",
      "(220, b'2.0.0 Ready to start TLS')\n",
      "(235, b'2.7.0 Accepted')\n",
      "寄信成功\n"
     ]
    }
   ],
   "source": [
    "import Ipynb_importer\n",
    "import monitor_module as m\n",
    "from email.mime.text import MIMEText\n",
    "\n",
    "gmail_addr='zionwilliamson777@gmail.com'\n",
    "gmail_pwd='calis3407'\n",
    "to_addrs=['marcussmart321@gmail.com']\n",
    "\n",
    "mime_text=MIMEText(\"let's go\",\"plain\",\"utf-8\")\n",
    "mime_text['Subject']='yo'\n",
    "mime_text['From']='ZionWilliamson'\n",
    "mime_text['to']='Dear Marcus'               \n",
    "mime_text['Cc']=\"Dear All\" \n",
    "mime_text=mime_text.as_string()\n",
    "m.send_gmail(gmail_addr,gmail_pwd,to_addrs,mime_text)                   "
   ]
  },
  {
   "cell_type": "code",
   "execution_count": null,
   "metadata": {},
   "outputs": [],
   "source": [
    "from email.mime.image import MIMEImage\n",
    "import cv2\n",
    "\n",
    "gmail_addr='zionwilliamson777@gmail.com'\n",
    "gmail_pwd='calis3407'\n",
    "to_addrs=['marcussmart321@gmail.com']\n",
    "\n",
    "cap=cv2.VideoCapture(0)\n",
    "while cap.isOpened():\n",
    "    success,img=cap.read()\n",
    "    if success:\n",
    "        cv2.imshow('frame', img)\n",
    "        k=cv2.waitKey(1)\n",
    "        if k==ord('s'):\n",
    "            msg=m.get_mime_img('小偷入侵','鷹眼防盜監視器','警察局',img)\n",
    "            m.send_gmail(gmail_addr, gmail_pwd, to_addrs, msg)\n",
    "        elif k==ord('q'):\n",
    "            cv2.destroyAllWindows()\n",
    "            cap.release()\n",
    "            break"
   ]
  }
 ],
 "metadata": {
  "kernelspec": {
   "display_name": "Python 3",
   "language": "python",
   "name": "python3"
  },
  "language_info": {
   "codemirror_mode": {
    "name": "ipython",
    "version": 3
   },
   "file_extension": ".py",
   "mimetype": "text/x-python",
   "name": "python",
   "nbconvert_exporter": "python",
   "pygments_lexer": "ipython3",
   "version": "3.7.4"
  }
 },
 "nbformat": 4,
 "nbformat_minor": 2
}
